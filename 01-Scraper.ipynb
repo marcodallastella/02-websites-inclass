{
 "cells": [
  {
   "cell_type": "markdown",
   "metadata": {},
   "source": [
    "## Create a new folder!\n",
    "\n",
    "1. Open it in VS Code\n",
    "2. Run a Jupyter server and make a new notebook in it"
   ]
  },
  {
   "cell_type": "markdown",
   "metadata": {},
   "source": []
  }
 ],
 "metadata": {
  "language_info": {
   "name": "python"
  },
  "orig_nbformat": 4
 },
 "nbformat": 4,
 "nbformat_minor": 2
}
